{
 "cells": [
  {
   "cell_type": "code",
   "execution_count": 2,
   "metadata": {},
   "outputs": [
    {
     "name": "stdout",
     "output_type": "stream",
     "text": [
      "before query\n"
     ]
    }
   ],
   "source": [
    "# import overpy\n",
    "import pandas as pd  \n",
    "import time\n",
    "from urllib.request import urlopen\n",
    "import json\n",
    "\n",
    "# api = overpy.Overpass()\n",
    "print('before query')\n",
    "# south = 42.7107\n",
    "# west = -78.9031\n",
    "# north = 43.0537\n",
    "# east = -78.4698\n",
    "# temp_north = 43.0094\n",
    "# temp_west = -78.9230\n",
    "\n",
    "south = 42.88402366 - 0.01\n",
    "west = -78.8246377 + 0.01\n",
    "north = 43.0139436 + 0.01\n",
    "east = -78.72325793 - 0.01\n",
    "temp_north = 43.0139436 + 0.01\n",
    "temp_west = -78.8246377 + 0.01\n",
    "\n",
    "\n",
    "way_list = []\n",
    "nodes_list = []\n",
    "while temp_north > south:\n",
    "    temp_south = temp_north - 0.01\n",
    "    while temp_west < east:\n",
    "        temp_east = temp_west + 0.01\n",
    "        # q = \"\"\"way({},{},{},{});out;\"\"\".format(str(temp_south),str(temp_west),str(temp_north),str(temp_east))\n",
    "        # r = api.query(q)\n",
    "        q_nodes = \"\"\"http://localhost/api/interpreter?data=%5Bout:json%5D%5Btimeout:25%5D;node({},{},{},{});out;\"\"\".format(str(temp_south),str(temp_west),str(temp_north),str(temp_east))\n",
    "        q_ways = \"http://localhost/api/interpreter?data=%5Bout:json%5D%5Btimeout:25%5D;way({},{},{},{});out;\".format(str(temp_south),str(temp_west),str(temp_north),str(temp_east))\n",
    "        \n",
    "        response_nodes = urlopen(q_nodes)\n",
    "        result_nodes = json.loads(response_nodes.read())\n",
    "\n",
    "        response_ways = urlopen(q_ways)\n",
    "        result_ways = json.loads(response_ways.read())\n",
    "\n",
    "        # print('Length: ',len(r['elements']))\n",
    "        \n",
    "        for way in result_ways['elements']:\n",
    "            l = {'id': way['id'], 'nodes':way['nodes']}\n",
    "            way_list.append(l)\n",
    "\n",
    "        temp_west += 0.01\n",
    "        \n",
    "        for node in result_nodes['elements']:\n",
    "            l = {'id': node['id'], 'lat':node['lat'], 'lon': node['lon']}\n",
    "            nodes_list.append(l)\n",
    "        break\n",
    "    break\n",
    "    print('One while done: ',len(way_list))\n",
    "    temp_north -= 0.01\n",
    "    temp_west = west\n",
    "df = pd.DataFrame(way_list)\n",
    "df.to_csv('way_list.csv',index=False,sep='|')\n",
    "df = pd.DataFrame(nodes_list)\n",
    "df.to_csv('node_list.csv',index=False,sep='|')\n",
    "\n",
    "\n"
   ]
  },
  {
   "cell_type": "code",
   "execution_count": null,
   "metadata": {},
   "outputs": [],
   "source": [
    "q = \"\"\"node({},{},{},{});out;\"\"\".format(str(temp_south),str(temp_west),str(temp_north),str(temp_east))"
   ]
  },
  {
   "cell_type": "code",
   "execution_count": null,
   "metadata": {},
   "outputs": [],
   "source": []
  },
  {
   "cell_type": "code",
   "execution_count": null,
   "metadata": {},
   "outputs": [
    {
     "data": {
      "text/plain": [
       "Decimal('42.9613780')"
      ]
     },
     "execution_count": 39,
     "metadata": {},
     "output_type": "execute_result"
    }
   ],
   "source": []
  },
  {
   "cell_type": "code",
   "execution_count": null,
   "metadata": {},
   "outputs": [
    {
     "ename": "NameError",
     "evalue": "name 'nodes' is not defined",
     "output_type": "error",
     "traceback": [
      "\u001b[1;31m---------------------------------------------------------------------------\u001b[0m",
      "\u001b[1;31mNameError\u001b[0m                                 Traceback (most recent call last)",
      "\u001b[1;32m~\\AppData\\Local\\Temp/ipykernel_25616/2242304188.py\u001b[0m in \u001b[0;36m<module>\u001b[1;34m\u001b[0m\n\u001b[1;32m----> 1\u001b[1;33m \u001b[1;33m{\u001b[0m\u001b[0mid\u001b[0m\u001b[1;33m,\u001b[0m \u001b[0mnodes\u001b[0m\u001b[1;33m}\u001b[0m\u001b[1;33m\u001b[0m\u001b[1;33m\u001b[0m\u001b[0m\n\u001b[0m",
      "\u001b[1;31mNameError\u001b[0m: name 'nodes' is not defined"
     ]
    }
   ],
   "source": [
    "{id, nodes}"
   ]
  },
  {
   "cell_type": "code",
   "execution_count": null,
   "metadata": {},
   "outputs": [],
   "source": []
  }
 ],
 "metadata": {
  "interpreter": {
   "hash": "d6285d73b879000a667b15769e72f35dc648d66a10561051627f5e4a57819b1a"
  },
  "kernelspec": {
   "display_name": "Python 3.9.7 ('base')",
   "language": "python",
   "name": "python3"
  },
  "language_info": {
   "codemirror_mode": {
    "name": "ipython",
    "version": 3
   },
   "file_extension": ".py",
   "mimetype": "text/x-python",
   "name": "python",
   "nbconvert_exporter": "python",
   "pygments_lexer": "ipython3",
   "version": "3.9.7"
  },
  "orig_nbformat": 4
 },
 "nbformat": 4,
 "nbformat_minor": 2
}
