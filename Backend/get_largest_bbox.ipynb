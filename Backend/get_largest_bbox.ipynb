{
 "cells": [
  {
   "cell_type": "code",
   "execution_count": 13,
   "metadata": {},
   "outputs": [],
   "source": [
    "import pandas as pd\n",
    "import glob"
   ]
  },
  {
   "cell_type": "code",
   "execution_count": 16,
   "metadata": {},
   "outputs": [],
   "source": [
    "files = glob.glob(r\"D:\\College_Projects\\611\\Raw_Files\\RoadGeom-611-20220307T165234Z-001\\RoadGeom-611\\Data\\Buffalo\\*\")"
   ]
  },
  {
   "cell_type": "code",
   "execution_count": 19,
   "metadata": {},
   "outputs": [
    {
     "name": "stdout",
     "output_type": "stream",
     "text": [
      "D:\\College_Projects\\611\\Raw_Files\\RoadGeom-611-20220307T165234Z-001\\RoadGeom-611\\Data\\Buffalo\\VehSenseData2018_05_03_16_00_48\\gps.txt\n",
      "D:\\College_Projects\\611\\Raw_Files\\RoadGeom-611-20220307T165234Z-001\\RoadGeom-611\\Data\\Buffalo\\VehSenseData2019_04_17_05_19_44\\gps.txt\n",
      "D:\\College_Projects\\611\\Raw_Files\\RoadGeom-611-20220307T165234Z-001\\RoadGeom-611\\Data\\Buffalo\\VehSenseData2019_04_18_12_49_00\\gps.txt\n",
      "D:\\College_Projects\\611\\Raw_Files\\RoadGeom-611-20220307T165234Z-001\\RoadGeom-611\\Data\\Buffalo\\VehSenseData2019_05_13_04_37_27\\gps.txt\n",
      "D:\\College_Projects\\611\\Raw_Files\\RoadGeom-611-20220307T165234Z-001\\RoadGeom-611\\Data\\Buffalo\\VehSenseData2019_05_17_01_15_33\\gps.txt\n",
      "D:\\College_Projects\\611\\Raw_Files\\RoadGeom-611-20220307T165234Z-001\\RoadGeom-611\\Data\\Buffalo\\VehSenseData2019_05_23_01_59_42\\gps.txt\n",
      "D:\\College_Projects\\611\\Raw_Files\\RoadGeom-611-20220307T165234Z-001\\RoadGeom-611\\Data\\Buffalo\\VehSenseData2019_05_23_02_19_26\\gps.txt\n",
      "D:\\College_Projects\\611\\Raw_Files\\RoadGeom-611-20220307T165234Z-001\\RoadGeom-611\\Data\\Buffalo\\VehSenseData2019_05_23_02_58_18\\gps.txt\n",
      "D:\\College_Projects\\611\\Raw_Files\\RoadGeom-611-20220307T165234Z-001\\RoadGeom-611\\Data\\Buffalo\\VehSenseData2019_05_24_04_24_18\\gps.txt\n",
      "D:\\College_Projects\\611\\Raw_Files\\RoadGeom-611-20220307T165234Z-001\\RoadGeom-611\\Data\\Buffalo\\VehSenseData2019_05_24_06_52_41\\gps.txt\n",
      "D:\\College_Projects\\611\\Raw_Files\\RoadGeom-611-20220307T165234Z-001\\RoadGeom-611\\Data\\Buffalo\\VehSenseData2019_05_25_01_41_08\\gps.txt\n",
      "D:\\College_Projects\\611\\Raw_Files\\RoadGeom-611-20220307T165234Z-001\\RoadGeom-611\\Data\\Buffalo\\VehSenseData2019_05_25_12_50_47\\gps.txt\n",
      "D:\\College_Projects\\611\\Raw_Files\\RoadGeom-611-20220307T165234Z-001\\RoadGeom-611\\Data\\Buffalo\\VehSenseData2020_10_12_15_24_00\\gps.txt\n",
      "D:\\College_Projects\\611\\Raw_Files\\RoadGeom-611-20220307T165234Z-001\\RoadGeom-611\\Data\\Buffalo\\VehSenseData2020_10_12_15_41_00\\gps.txt\n",
      "D:\\College_Projects\\611\\Raw_Files\\RoadGeom-611-20220307T165234Z-001\\RoadGeom-611\\Data\\Buffalo\\VehSenseData2020_10_12_15_56_48\\gps.txt\n"
     ]
    }
   ],
   "source": [
    "all_data = pd.DataFrame()\n",
    "for file in files:\n",
    "    for sub_file in glob.glob(file + r'\\*'):\n",
    "        if 'gps' in sub_file:\n",
    "            print(sub_file)\n",
    "            data = pd.read_csv(sub_file)\n",
    "            all_data = all_data.append(data,ignore_index=True)"
   ]
  },
  {
   "cell_type": "code",
   "execution_count": 22,
   "metadata": {},
   "outputs": [],
   "source": [
    "minY = all_data['lat'].min()\n",
    "maxY = all_data['lat'].max()\n",
    "\n",
    "minX = all_data['lon'].min()\n",
    "maxX = all_data['lon'].max()\n",
    "\n",
    "# "
   ]
  },
  {
   "cell_type": "code",
   "execution_count": 24,
   "metadata": {},
   "outputs": [
    {
     "data": {
      "text/plain": [
       "(-78.8246377, 42.88402366, -78.72325793, 43.0139436)"
      ]
     },
     "execution_count": 24,
     "metadata": {},
     "output_type": "execute_result"
    }
   ],
   "source": [
    "(minX, minY, maxX , maxY)"
   ]
  },
  {
   "cell_type": "code",
   "execution_count": null,
   "metadata": {},
   "outputs": [],
   "source": []
  }
 ],
 "metadata": {
  "language_info": {
   "name": "python"
  },
  "orig_nbformat": 4
 },
 "nbformat": 4,
 "nbformat_minor": 2
}
