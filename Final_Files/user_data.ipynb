{
 "cells": [
  {
   "cell_type": "code",
   "execution_count": 2,
   "metadata": {},
   "outputs": [
    {
     "name": "stdout",
     "output_type": "stream",
     "text": [
      "path:  /Users/invenstphonefour/Documents/Project661/CrowdGeomCode/data/linkoln_mkz/VehSenseData2020_10_23_12_09_37\n",
      "gps:  883\n",
      "gps:  {'timestamp': 0.0, 'system_timestamp': 1603469379643.0, 'lat': 43.00421431, 'long': -78.78864423, 'velocity': 0.0, 'acc': -4.066018832582554e-12, 'bearing': 0.0, 'bad_data': 1.0}\n",
      "filtered_pitch:  178598\n",
      "filtered_pitch:  {'timestamp': 1603469379726.8518, 'value': -1.7740532351102727}\n",
      "anchor_snapshots:  178598\n",
      "pitch_rate_filtered:  178598\n"
     ]
    }
   ],
   "source": [
    "import json\n",
    "import requests\n",
    "import pandas as pd\n",
    "import time \n",
    "\n",
    "DB_CONFIG = 'http://127.0.0.1:5001'\n",
    "\n",
    "f = open('json_data.json')\n",
    "data = json.load(f)\n",
    "print(\"path: \",data['path'])\n",
    "print(\"gps: \",len(data['gps']))\n",
    "print(\"gps: \",data['gps'][0])\n",
    "print(\"filtered_pitch: \",len(data['filtered_pitch']))\n",
    "print(\"filtered_pitch: \",data['filtered_pitch'][0])\n",
    "print(\"anchor_snapshots: \",len(data['anchor_snapshots']))\n",
    "print(\"pitch_rate_filtered: \",len(data['pitch_rate_filtered']))\n",
    "\n",
    "city = 'Buffalo'"
   ]
  },
  {
   "cell_type": "code",
   "execution_count": 3,
   "metadata": {},
   "outputs": [],
   "source": [
    "gps_data = []\n",
    "gps_processing = []\n",
    "for gps in data['gps']:\n",
    "    # gps_data.append({\n",
    "    #     'trip_id': data['path'],\n",
    "    #     'timestamp': gps['timestamp'],\n",
    "    #     'system_timestamp': gps['system_timestamp'],\n",
    "    #     'latitude': gps['lat'],\n",
    "    #     'longitude': gps['long'],\n",
    "    #     'velocity': gps['velocity'],\n",
    "    #     'acc': gps['acc'],\n",
    "    #     'bearing': gps['bearing'],\n",
    "    #     'bad_data': gps['bad_data']\n",
    "    # })\n",
    "    gps_processing.append({\n",
    "        'timestamp': gps['timestamp'],\n",
    "        'latitude': gps['lat'],\n",
    "        'longitude': gps['long']\n",
    "    })\n",
    "\n",
    "\n",
    "\n",
    "filtered_pitch_data = []\n",
    "for filtered_pitch in data['filtered_pitch']:\n",
    "    filtered_pitch_data.append({\n",
    "        'trip_id': data['path'],\n",
    "        'timestamp': filtered_pitch['timestamp'],\n",
    "        'value': filtered_pitch['value']\n",
    "    })\n",
    "\n",
    "\n",
    "\n",
    "anchor_snapshots_data = []\n",
    "for snapshot in data['anchor_snapshots']:\n",
    "    anchor_snapshots_data.append({\n",
    "        'trip_id': data['path'],\n",
    "        'timestamp': snapshot['timestamp'],\n",
    "        'value': snapshot['value']\n",
    "    })\n",
    "\n",
    "\n",
    "\n",
    "pitch_rate_filtered_data = []\n",
    "for pitch_rate in data['pitch_rate_filtered']:\n",
    "    pitch_rate_filtered_data.append({\n",
    "        'trip_id': data['path'],\n",
    "        'timestamp': pitch_rate['timestamp'],\n",
    "        'value': pitch_rate['value']\n",
    "    })"
   ]
  },
  {
   "cell_type": "code",
   "execution_count": 4,
   "metadata": {},
   "outputs": [
    {
     "name": "stdout",
     "output_type": "stream",
     "text": [
      "sleeping for 10 seconds\n"
     ]
    }
   ],
   "source": [
    "gps_data_points_all = pd.DataFrame(gps_processing)\n",
    "# print(gps_data_points_all)\n",
    "Ld = []\n",
    "all_coordinates = (gps_data_points_all['longitude'].astype(str)+\",\"+gps_data_points_all['latitude'].astype(str)).tolist()\n",
    "timestamps = gps_data_points_all['timestamp'].copy()\n",
    "# for tolerance in [50, 40, 30, 20, 10]:\n",
    "for tolerance in [50]:\n",
    "    # print(tolerance)\n",
    "    # print(len(all_coordinates))\n",
    "    for i in range(0, len(all_coordinates)-2, 2):\n",
    "        if i%4000==0:\n",
    "            print('sleeping for 10 seconds')\n",
    "            time.sleep(10)\n",
    "    \n",
    "        coordinate_str = \";\".join(all_coordinates[i:i+2])\n",
    "        timestamps_specific = timestamps[i:i+2]\n",
    "        radius = ['{}'.format(tolerance)]\n",
    "        radius_str = ';'.join(radius*len(coordinate_str.split(';')))\n",
    "        service_url = '/match/v1/driving/{}'.format(coordinate_str)\n",
    "        request_url = \"http://127.0.0.1:5000\" + service_url\n",
    "        payload = {'geometries': 'geojson', 'steps': 'false', 'radiuses': radius_str}\n",
    "\n",
    "        r = requests.get(request_url, params=payload)\n",
    "        \n",
    "        results = r.json()\n",
    "        try:\n",
    "            for tracepoint, coordinate, timestamps_temp in zip(results['tracepoints'], coordinate_str.split(';'), timestamps_specific):\n",
    "                coordinate = coordinate.split(',')\n",
    "                # print(tracepoint['location'][0], tracepoint['location'][1]) # lon, lat\n",
    "                dict1 = {}\n",
    "                dict1['trace_lon'] = tracepoint['location'][0]\n",
    "                dict1['trace_lat'] = tracepoint['location'][1]\n",
    "                dict1['distance'] = tracepoint['distance']\n",
    "                dict1['user_lon'] = coordinate[0]\n",
    "                dict1['user_lat'] = coordinate[1]\n",
    "                dict1['timestamp'] = timestamps_temp\n",
    "                 # print(dict1)\n",
    "                Ld.append(dict1)\n",
    "        except:\n",
    "            print('got error')\n",
    "            print(results)\n",
    "\n",
    "\n",
    "        coordinate_str = \";\".join(all_coordinates[len(all_coordinates)-2:])\n",
    "        timestamps_specific = timestamps[len(all_coordinates)-2:]\n",
    "        radius = ['{}'.format(tolerance)]\n",
    "        radius_str = ';'.join(radius*len(coordinate_str.split(';')))\n",
    "        service_url = '/match/v1/driving/{}'.format(coordinate_str)\n",
    "        request_url = \"http://127.0.0.1:5000\" + service_url\n",
    "        payload = {'geometries': 'geojson', 'steps': 'false', 'radiuses': radius_str}\n",
    "\n",
    "        r = requests.get(request_url, params=payload)\n",
    "        \n",
    "        results = r.json()\n",
    "        try:\n",
    "            for tracepoint, coordinate, timestamps_temp in zip(results['tracepoints'], coordinate_str.split(';'), timestamps_specific):\n",
    "                coordinate = coordinate.split(',')\n",
    "                # print(tracepoint['location'][0], tracepoint['location'][1]) # lon, lat\n",
    "                dict1 = {}\n",
    "                dict1['trace_lon'] = tracepoint['location'][0]\n",
    "                dict1['trace_lat'] = tracepoint['location'][1]\n",
    "                dict1['distance'] = tracepoint['distance']\n",
    "                dict1['user_lon'] = coordinate[0]\n",
    "                dict1['user_lat'] = coordinate[1]\n",
    "                dict1['timestamp'] = timestamps_temp\n",
    "                 # print(dict1)\n",
    "                Ld.append(dict1)\n",
    "        except:\n",
    "            print('got error')\n",
    "            print(results)"
   ]
  },
  {
   "cell_type": "code",
   "execution_count": 5,
   "metadata": {},
   "outputs": [
    {
     "name": "stdout",
     "output_type": "stream",
     "text": [
      "all_map_matched_coordinates  883\n"
     ]
    }
   ],
   "source": [
    "# print('Ld', len(Ld))\n",
    "all_map_matched_coordinates = pd.DataFrame(Ld)\n",
    "all_map_matched_coordinates['user_coordinates'] = all_map_matched_coordinates['user_lon'].astype(str)+\" , \"+all_map_matched_coordinates['user_lat'].astype(str)\n",
    "all_map_matched_coordinates['trace_coordinates'] = all_map_matched_coordinates['trace_lon'].astype(str)+\" , \"+all_map_matched_coordinates['trace_lat'].astype(str)\n",
    "\n",
    "all_map_matched_coordinates.sort_values(['user_coordinates','distance'],inplace=True)\n",
    "all_map_matched_coordinates.reset_index(inplace=True, drop=True)\n",
    "# all_map_matched_coordinates.to_csv('FINAL_all_map_matched_coordinates.csv',index=False)\n",
    "\n",
    "\n",
    "all_map_matched_coordinates.drop_duplicates(subset=['user_coordinates','timestamp'], keep  = 'first',inplace=True)\n",
    "all_map_matched_coordinates.reset_index(inplace=True, drop=True)\n",
    "# all_map_matched_coordinates.to_csv('FILTERED_FINAL_all_map_matched_coordinates.csv',index=False)\n",
    "\n",
    "all_map_matched_coordinates['user_coordinates'] = all_map_matched_coordinates['user_coordinates'].apply(lambda x: [float(x.split(',')[0].strip()),float(x.split(',')[1].strip())])\n",
    "all_map_matched_coordinates['trace_coordinates'] = all_map_matched_coordinates['trace_coordinates'].apply(lambda x: [float(x.split(',')[0].strip()),float(x.split(',')[1].strip())])\n",
    "\n",
    "print('all_map_matched_coordinates ', len(all_map_matched_coordinates))\n",
    "# all_map_matched_coordinates.to_csv('del_temp.csv',index=False)"
   ]
  },
  {
   "cell_type": "code",
   "execution_count": 6,
   "metadata": {},
   "outputs": [],
   "source": [
    "def get_nearest_node(x):\n",
    "    response = requests.get(DB_CONFIG+'/node/userNearestNode', json = {\"coordinate\": [x[0],x[1]]})\n",
    "    # print([x[1],x[0]])\n",
    "    return response.json()['node_id']\n",
    "\n",
    "\n",
    "all_map_matched_coordinates['nearest_node_id'] = all_map_matched_coordinates['trace_coordinates'].apply(get_nearest_node)"
   ]
  },
  {
   "cell_type": "code",
   "execution_count": null,
   "metadata": {},
   "outputs": [],
   "source": []
  },
  {
   "cell_type": "code",
   "execution_count": 31,
   "metadata": {},
   "outputs": [],
   "source": [
    "# all_map_matched_coordinates['nearest_node_id'] = all_map_matched_coordinates['nearest_node'].apply(lambda x: x['node_id'])\n",
    "# all_map_matched_coordinates['nearest_node_lon_lat'] = all_map_matched_coordinates['nearest_node'].apply(lambda x: x['location']['coordinates'])\n",
    "all_map_matched_coordinates.to_excel('temp_del.xlsx',index=False)\n",
    "trip_nodes = []\n",
    "\n",
    "for gps in data['gps']:\n",
    "    nearest_node_id = all_map_matched_coordinates[all_map_matched_coordinates['timestamp'] ==  gps['timestamp']]['nearest_node_id']\n",
    "    nearest_node_id = nearest_node_id.values[0].item()\n",
    "    trip_nodes.append(nearest_node_id)\n",
    "    # print('Nearest node id', nearest_node_id,type(nearest_node_id))\n",
    "    gps_data.append({\n",
    "        'trip_id': data['path'],\n",
    "        'timestamp': gps['timestamp'],\n",
    "        'system_timestamp': gps['system_timestamp'],\n",
    "        'latitude': gps['lat'],\n",
    "        'longitude': gps['long'],\n",
    "        'velocity': gps['velocity'],\n",
    "        'acc': gps['acc'],\n",
    "        'bearing': gps['bearing'],\n",
    "        'bad_data': gps['bad_data'],\n",
    "        'nearest_node': nearest_node_id\n",
    "    })\n",
    "\n",
    "\n",
    "\n",
    "response = requests.get(DB_CONFIG+'/nodeSegments', json = {'node_ids': trip_nodes})\n",
    "segments = response.json()\n",
    "\n",
    "# segment_ids = [segment['segment_id'] for segment in segments]\n",
    "# #add to db\n",
    "# trip_details = {\n",
    "#     'trip_id': data['path'],\n",
    "#     'city': city,\n",
    "#     'node_ids': list(set(trip_nodes)),\n",
    "#     'segment_ids': segments\n",
    "#     }"
   ]
  },
  {
   "cell_type": "code",
   "execution_count": 33,
   "metadata": {},
   "outputs": [
    {
     "data": {
      "text/plain": [
       "596"
      ]
     },
     "execution_count": 33,
     "metadata": {},
     "output_type": "execute_result"
    }
   ],
   "source": [
    "len(segments)"
   ]
  },
  {
   "cell_type": "code",
   "execution_count": 35,
   "metadata": {},
   "outputs": [
    {
     "data": {
      "text/plain": [
       "339"
      ]
     },
     "execution_count": 35,
     "metadata": {},
     "output_type": "execute_result"
    }
   ],
   "source": [
    "len(list(set(trip_nodes)))"
   ]
  },
  {
   "cell_type": "code",
   "execution_count": null,
   "metadata": {},
   "outputs": [],
   "source": []
  },
  {
   "cell_type": "code",
   "execution_count": null,
   "metadata": {},
   "outputs": [],
   "source": []
  },
  {
   "cell_type": "code",
   "execution_count": null,
   "metadata": {},
   "outputs": [],
   "source": [
    "response = requests.post(DB_CONFIG+'/gps', json = gps_data)\n",
    "response = requests.post(DB_CONFIG+'/filteredPitch', json = filtered_pitch_data)\n",
    "response = requests.post(DB_CONFIG+'/anchorSnapshots', json = anchor_snapshots_data)\n",
    "response = requests.post(DB_CONFIG+'/pitchRateFiltered', json = pitch_rate_filtered_data)\n",
    "response = requests.post(DB_CONFIG+'/trip', json = [trip_details])"
   ]
  },
  {
   "cell_type": "code",
   "execution_count": 1,
   "metadata": {},
   "outputs": [],
   "source": [
    "import pandas as pd\n",
    "import ast"
   ]
  },
  {
   "cell_type": "code",
   "execution_count": 3,
   "metadata": {},
   "outputs": [],
   "source": [
    "data = pd.read_csv('gps_data_from_mongo_testing.csv')\n",
    "data['node_ids'] = data['node_ids'].apply(lambda x: ast.literal_eval(x))\n",
    "data.set_index('_id',inplace=True)"
   ]
  },
  {
   "cell_type": "code",
   "execution_count": 14,
   "metadata": {},
   "outputs": [],
   "source": [
    "data.explode('node_ids').to_csv('segment_to_node_mapping.csv')"
   ]
  },
  {
   "cell_type": "code",
   "execution_count": 7,
   "metadata": {},
   "outputs": [],
   "source": []
  },
  {
   "cell_type": "code",
   "execution_count": null,
   "metadata": {},
   "outputs": [],
   "source": []
  }
 ],
 "metadata": {
  "interpreter": {
   "hash": "d6285d73b879000a667b15769e72f35dc648d66a10561051627f5e4a57819b1a"
  },
  "kernelspec": {
   "display_name": "Python 3.9.7 ('base')",
   "language": "python",
   "name": "python3"
  },
  "language_info": {
   "codemirror_mode": {
    "name": "ipython",
    "version": 3
   },
   "file_extension": ".py",
   "mimetype": "text/x-python",
   "name": "python",
   "nbconvert_exporter": "python",
   "pygments_lexer": "ipython3",
   "version": "3.9.7"
  },
  "orig_nbformat": 4
 },
 "nbformat": 4,
 "nbformat_minor": 2
}
